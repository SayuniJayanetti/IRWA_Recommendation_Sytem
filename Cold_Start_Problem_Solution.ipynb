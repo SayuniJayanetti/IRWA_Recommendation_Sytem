{
 "cells": [
  {
   "cell_type": "code",
   "execution_count": 1,
   "id": "1a478e2e-7149-44ff-8b2f-babcf061104e",
   "metadata": {},
   "outputs": [],
   "source": [
    "import pandas as pd\n",
    "import numpy as np"
   ]
  },
  {
   "cell_type": "code",
   "execution_count": 3,
   "id": "42841329-c74d-41cb-b499-fa8148c76197",
   "metadata": {},
   "outputs": [],
   "source": [
    "df = pd.read_csv('cleaned_book_store_data.csv', delimiter=',', encoding='ISO-8859-1')"
   ]
  },
  {
   "cell_type": "code",
   "execution_count": 5,
   "id": "b26b0716-200a-49db-9d63-29f0015c30e8",
   "metadata": {},
   "outputs": [
    {
     "data": {
      "text/html": [
       "<div>\n",
       "<style scoped>\n",
       "    .dataframe tbody tr th:only-of-type {\n",
       "        vertical-align: middle;\n",
       "    }\n",
       "\n",
       "    .dataframe tbody tr th {\n",
       "        vertical-align: top;\n",
       "    }\n",
       "\n",
       "    .dataframe thead th {\n",
       "        text-align: right;\n",
       "    }\n",
       "</style>\n",
       "<table border=\"1\" class=\"dataframe\">\n",
       "  <thead>\n",
       "    <tr style=\"text-align: right;\">\n",
       "      <th></th>\n",
       "      <th>ISBN</th>\n",
       "      <th>Book-Title</th>\n",
       "      <th>Book-Author</th>\n",
       "      <th>Year-Of-Publication</th>\n",
       "      <th>Publisher</th>\n",
       "      <th>Image-URL-M</th>\n",
       "      <th>User-ID</th>\n",
       "      <th>Age</th>\n",
       "      <th>Book-Rating</th>\n",
       "    </tr>\n",
       "  </thead>\n",
       "  <tbody>\n",
       "    <tr>\n",
       "      <th>0</th>\n",
       "      <td>0002005018</td>\n",
       "      <td>Clara Callan</td>\n",
       "      <td>richard bruce wright</td>\n",
       "      <td>2001</td>\n",
       "      <td>HarperFlamingo Canada</td>\n",
       "      <td>http://images.amazon.com/images/P/0002005018.0...</td>\n",
       "      <td>8</td>\n",
       "      <td>35</td>\n",
       "      <td>5</td>\n",
       "    </tr>\n",
       "    <tr>\n",
       "      <th>1</th>\n",
       "      <td>0002005018</td>\n",
       "      <td>Clara Callan</td>\n",
       "      <td>richard bruce wright</td>\n",
       "      <td>2001</td>\n",
       "      <td>HarperFlamingo Canada</td>\n",
       "      <td>http://images.amazon.com/images/P/0002005018.0...</td>\n",
       "      <td>11676</td>\n",
       "      <td>35</td>\n",
       "      <td>8</td>\n",
       "    </tr>\n",
       "    <tr>\n",
       "      <th>2</th>\n",
       "      <td>0002005018</td>\n",
       "      <td>Clara Callan</td>\n",
       "      <td>richard bruce wright</td>\n",
       "      <td>2001</td>\n",
       "      <td>HarperFlamingo Canada</td>\n",
       "      <td>http://images.amazon.com/images/P/0002005018.0...</td>\n",
       "      <td>67544</td>\n",
       "      <td>30</td>\n",
       "      <td>8</td>\n",
       "    </tr>\n",
       "    <tr>\n",
       "      <th>3</th>\n",
       "      <td>0002005018</td>\n",
       "      <td>Clara Callan</td>\n",
       "      <td>richard bruce wright</td>\n",
       "      <td>2001</td>\n",
       "      <td>HarperFlamingo Canada</td>\n",
       "      <td>http://images.amazon.com/images/P/0002005018.0...</td>\n",
       "      <td>116866</td>\n",
       "      <td>35</td>\n",
       "      <td>9</td>\n",
       "    </tr>\n",
       "    <tr>\n",
       "      <th>4</th>\n",
       "      <td>0002005018</td>\n",
       "      <td>Clara Callan</td>\n",
       "      <td>richard bruce wright</td>\n",
       "      <td>2001</td>\n",
       "      <td>HarperFlamingo Canada</td>\n",
       "      <td>http://images.amazon.com/images/P/0002005018.0...</td>\n",
       "      <td>123629</td>\n",
       "      <td>35</td>\n",
       "      <td>9</td>\n",
       "    </tr>\n",
       "  </tbody>\n",
       "</table>\n",
       "</div>"
      ],
      "text/plain": [
       "         ISBN    Book-Title           Book-Author  Year-Of-Publication  \\\n",
       "0  0002005018  Clara Callan  richard bruce wright                 2001   \n",
       "1  0002005018  Clara Callan  richard bruce wright                 2001   \n",
       "2  0002005018  Clara Callan  richard bruce wright                 2001   \n",
       "3  0002005018  Clara Callan  richard bruce wright                 2001   \n",
       "4  0002005018  Clara Callan  richard bruce wright                 2001   \n",
       "\n",
       "               Publisher                                        Image-URL-M  \\\n",
       "0  HarperFlamingo Canada  http://images.amazon.com/images/P/0002005018.0...   \n",
       "1  HarperFlamingo Canada  http://images.amazon.com/images/P/0002005018.0...   \n",
       "2  HarperFlamingo Canada  http://images.amazon.com/images/P/0002005018.0...   \n",
       "3  HarperFlamingo Canada  http://images.amazon.com/images/P/0002005018.0...   \n",
       "4  HarperFlamingo Canada  http://images.amazon.com/images/P/0002005018.0...   \n",
       "\n",
       "   User-ID  Age  Book-Rating  \n",
       "0        8   35            5  \n",
       "1    11676   35            8  \n",
       "2    67544   30            8  \n",
       "3   116866   35            9  \n",
       "4   123629   35            9  "
      ]
     },
     "execution_count": 5,
     "metadata": {},
     "output_type": "execute_result"
    }
   ],
   "source": [
    "df.head(5)"
   ]
  },
  {
   "cell_type": "markdown",
   "id": "c1cfaffb-b838-42b9-bfb1-bc0f67672c5a",
   "metadata": {},
   "source": [
    "# New Users"
   ]
  },
  {
   "cell_type": "markdown",
   "id": "f45a419d-4ce8-44a7-9501-36677f0784aa",
   "metadata": {},
   "source": [
    "## Step 1: Group books by Age and get top rated books"
   ]
  },
  {
   "cell_type": "code",
   "execution_count": 59,
   "id": "d5e1d8b2-99ad-4685-a756-970601454a0e",
   "metadata": {},
   "outputs": [],
   "source": [
    "def get_popular_books_by_age(df, n=10):\n",
    "    # Group by age, calculate average ratings and counts\n",
    "    age_group = df.groupby('Age').agg({\n",
    "        'Book-Title': lambda x: list(x),  # List of book titles read by users of that age\n",
    "        'Book-Rating': 'mean',  # Average rating for the age\n",
    "        'Year-Of-Publication': 'first'  # To handle recent books\n",
    "    })\n",
    "    return age_group[['Book-Title']]\n"
   ]
  },
  {
   "cell_type": "code",
   "execution_count": 61,
   "id": "de0237f2-1872-4954-a702-ac9c48445f68",
   "metadata": {},
   "outputs": [],
   "source": [
    "popular_books_by_age = get_popular_books_by_age(df)"
   ]
  },
  {
   "cell_type": "markdown",
   "id": "ed97b2b3-266a-4b58-875a-f46bfc57d37a",
   "metadata": {},
   "source": [
    "## Step 2: Recommend books for new users based on their age"
   ]
  },
  {
   "cell_type": "code",
   "execution_count": 73,
   "id": "432f74ae-2654-4331-9ce8-0da932b4df0f",
   "metadata": {},
   "outputs": [],
   "source": [
    "def recommend_books_for_new_user(age, popular_books_by_age, n=10):\n",
    "    # Ensure age is an integer for comparison\n",
    "    if age in popular_books_by_age.index:\n",
    "        # Retrieve and return the book titles for the specified age\n",
    "        return popular_books_by_age.loc[age, 'Book-Title'][:n]  # Return the list of book titles\n",
    "    else:\n",
    "        return \"No data available for this age group. Here are the most popular books.\"\n"
   ]
  },
  {
   "cell_type": "code",
   "execution_count": 78,
   "id": "fff50ea9-e1a2-4ada-8dc0-b086c9aa27e2",
   "metadata": {},
   "outputs": [
    {
     "name": "stdout",
     "output_type": "stream",
     "text": [
      "Recommended Books:\n"
     ]
    },
    {
     "data": {
      "text/plain": [
       "['The Testament',\n",
       " 'New Vegetarian: Bold and Beautiful Recipes for Every Occasion',\n",
       " 'Wild Animus',\n",
       " 'Wild Animus',\n",
       " 'Wild Animus',\n",
       " 'Wild Animus',\n",
       " 'Wild Animus',\n",
       " 'Wild Animus',\n",
       " 'Wild Animus',\n",
       " 'Wild Animus']"
      ]
     },
     "execution_count": 78,
     "metadata": {},
     "output_type": "execute_result"
    }
   ],
   "source": [
    "age = 20  # Replace with the user's age\n",
    "popular_books_by_age = get_popular_books_by_age(df)  # Ensure this is called to get the updated DataFrame\n",
    "recommendations = recommend_books_for_new_user(age, popular_books_by_age)\n",
    "\n",
    "if recommendations == \"No data available for this age group.\":\n",
    "    national_popular_books = df['Book-Title'].value_counts().head(10).index.tolist()  # Get titles as a list\n",
    "    recommendations = national_popular_books\n",
    "\n",
    "# Display the recommendations\n",
    "print(\"Recommended Books:\")\n",
    "recommendations"
   ]
  },
  {
   "cell_type": "code",
   "execution_count": null,
   "id": "58ec9d1a-5032-4a0d-ba20-8fe0de242f69",
   "metadata": {},
   "outputs": [],
   "source": []
  }
 ],
 "metadata": {
  "kernelspec": {
   "display_name": "Python 3 (ipykernel)",
   "language": "python",
   "name": "python3"
  },
  "language_info": {
   "codemirror_mode": {
    "name": "ipython",
    "version": 3
   },
   "file_extension": ".py",
   "mimetype": "text/x-python",
   "name": "python",
   "nbconvert_exporter": "python",
   "pygments_lexer": "ipython3",
   "version": "3.12.4"
  }
 },
 "nbformat": 4,
 "nbformat_minor": 5
}
