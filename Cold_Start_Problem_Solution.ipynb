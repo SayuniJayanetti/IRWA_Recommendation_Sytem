{
 "cells": [
  {
   "cell_type": "code",
   "execution_count": 122,
   "id": "1a478e2e-7149-44ff-8b2f-babcf061104e",
   "metadata": {},
   "outputs": [],
   "source": [
    "import pandas as pd\n",
    "import numpy as np"
   ]
  },
  {
   "cell_type": "code",
   "execution_count": 124,
   "id": "42841329-c74d-41cb-b499-fa8148c76197",
   "metadata": {},
   "outputs": [],
   "source": [
    "df = pd.read_csv('cleaned_book_store_data.csv', delimiter=',', encoding='ISO-8859-1')"
   ]
  },
  {
   "cell_type": "code",
   "execution_count": 125,
   "id": "b26b0716-200a-49db-9d63-29f0015c30e8",
   "metadata": {},
   "outputs": [
    {
     "data": {
      "text/html": [
       "<div>\n",
       "<style scoped>\n",
       "    .dataframe tbody tr th:only-of-type {\n",
       "        vertical-align: middle;\n",
       "    }\n",
       "\n",
       "    .dataframe tbody tr th {\n",
       "        vertical-align: top;\n",
       "    }\n",
       "\n",
       "    .dataframe thead th {\n",
       "        text-align: right;\n",
       "    }\n",
       "</style>\n",
       "<table border=\"1\" class=\"dataframe\">\n",
       "  <thead>\n",
       "    <tr style=\"text-align: right;\">\n",
       "      <th></th>\n",
       "      <th>ISBN</th>\n",
       "      <th>Book-Title</th>\n",
       "      <th>Book-Author</th>\n",
       "      <th>Year-Of-Publication</th>\n",
       "      <th>Publisher</th>\n",
       "      <th>Image-URL-M</th>\n",
       "      <th>User-ID</th>\n",
       "      <th>Book-Rating</th>\n",
       "      <th>Country</th>\n",
       "    </tr>\n",
       "  </thead>\n",
       "  <tbody>\n",
       "    <tr>\n",
       "      <th>0</th>\n",
       "      <td>0002005018</td>\n",
       "      <td>Clara Callan</td>\n",
       "      <td>richard bruce wright</td>\n",
       "      <td>2001</td>\n",
       "      <td>HarperFlamingo Canada</td>\n",
       "      <td>http://images.amazon.com/images/P/0002005018.0...</td>\n",
       "      <td>8</td>\n",
       "      <td>5</td>\n",
       "      <td>canada</td>\n",
       "    </tr>\n",
       "    <tr>\n",
       "      <th>1</th>\n",
       "      <td>0002005018</td>\n",
       "      <td>Clara Callan</td>\n",
       "      <td>richard bruce wright</td>\n",
       "      <td>2001</td>\n",
       "      <td>HarperFlamingo Canada</td>\n",
       "      <td>http://images.amazon.com/images/P/0002005018.0...</td>\n",
       "      <td>67544</td>\n",
       "      <td>8</td>\n",
       "      <td>canada</td>\n",
       "    </tr>\n",
       "    <tr>\n",
       "      <th>2</th>\n",
       "      <td>0002005018</td>\n",
       "      <td>Clara Callan</td>\n",
       "      <td>richard bruce wright</td>\n",
       "      <td>2001</td>\n",
       "      <td>HarperFlamingo Canada</td>\n",
       "      <td>http://images.amazon.com/images/P/0002005018.0...</td>\n",
       "      <td>116866</td>\n",
       "      <td>9</td>\n",
       "      <td>usa</td>\n",
       "    </tr>\n",
       "    <tr>\n",
       "      <th>3</th>\n",
       "      <td>0002005018</td>\n",
       "      <td>Clara Callan</td>\n",
       "      <td>richard bruce wright</td>\n",
       "      <td>2001</td>\n",
       "      <td>HarperFlamingo Canada</td>\n",
       "      <td>http://images.amazon.com/images/P/0002005018.0...</td>\n",
       "      <td>123629</td>\n",
       "      <td>9</td>\n",
       "      <td>canada</td>\n",
       "    </tr>\n",
       "    <tr>\n",
       "      <th>4</th>\n",
       "      <td>0002005018</td>\n",
       "      <td>Clara Callan</td>\n",
       "      <td>richard bruce wright</td>\n",
       "      <td>2001</td>\n",
       "      <td>HarperFlamingo Canada</td>\n",
       "      <td>http://images.amazon.com/images/P/0002005018.0...</td>\n",
       "      <td>200273</td>\n",
       "      <td>8</td>\n",
       "      <td>canada</td>\n",
       "    </tr>\n",
       "  </tbody>\n",
       "</table>\n",
       "</div>"
      ],
      "text/plain": [
       "         ISBN    Book-Title           Book-Author  Year-Of-Publication  \\\n",
       "0  0002005018  Clara Callan  richard bruce wright                 2001   \n",
       "1  0002005018  Clara Callan  richard bruce wright                 2001   \n",
       "2  0002005018  Clara Callan  richard bruce wright                 2001   \n",
       "3  0002005018  Clara Callan  richard bruce wright                 2001   \n",
       "4  0002005018  Clara Callan  richard bruce wright                 2001   \n",
       "\n",
       "               Publisher                                        Image-URL-M  \\\n",
       "0  HarperFlamingo Canada  http://images.amazon.com/images/P/0002005018.0...   \n",
       "1  HarperFlamingo Canada  http://images.amazon.com/images/P/0002005018.0...   \n",
       "2  HarperFlamingo Canada  http://images.amazon.com/images/P/0002005018.0...   \n",
       "3  HarperFlamingo Canada  http://images.amazon.com/images/P/0002005018.0...   \n",
       "4  HarperFlamingo Canada  http://images.amazon.com/images/P/0002005018.0...   \n",
       "\n",
       "   User-ID  Book-Rating Country  \n",
       "0        8            5  canada  \n",
       "1    67544            8  canada  \n",
       "2   116866            9     usa  \n",
       "3   123629            9  canada  \n",
       "4   200273            8  canada  "
      ]
     },
     "execution_count": 125,
     "metadata": {},
     "output_type": "execute_result"
    }
   ],
   "source": [
    "df.head(5)"
   ]
  },
  {
   "cell_type": "markdown",
   "id": "f45a419d-4ce8-44a7-9501-36677f0784aa",
   "metadata": {},
   "source": [
    "## Step 1: Group books by Country and get top rated books"
   ]
  },
  {
   "cell_type": "code",
   "execution_count": 129,
   "id": "d5e1d8b2-99ad-4685-a756-970601454a0e",
   "metadata": {},
   "outputs": [],
   "source": [
    "def get_popular_books_by_country(df, n=10):\n",
    "    # Group by country, calculate average ratings and counts\n",
    "    country_group = df.groupby('Country').agg({\n",
    "        'Book-Title': lambda x: x.value_counts().index.tolist(),  # Most read books\n",
    "        'Book-Rating': 'mean',  # Average rating for the country\n",
    "        'Year-Of-Publication': 'first'  # To handle recent books\n",
    "    })\n",
    "    return country_group[['Book-Title']].apply(lambda x: x[:n])"
   ]
  },
  {
   "cell_type": "code",
   "execution_count": 131,
   "id": "de0237f2-1872-4954-a702-ac9c48445f68",
   "metadata": {},
   "outputs": [],
   "source": [
    "popular_books_by_country = get_popular_books_by_country(df)"
   ]
  },
  {
   "cell_type": "markdown",
   "id": "ed97b2b3-266a-4b58-875a-f46bfc57d37a",
   "metadata": {},
   "source": [
    "## Step 2: Recommend books for new users based on their country"
   ]
  },
  {
   "cell_type": "code",
   "execution_count": 134,
   "id": "432f74ae-2654-4331-9ce8-0da932b4df0f",
   "metadata": {},
   "outputs": [],
   "source": [
    "def recommend_books_for_new_user(state, popular_books_by_country, n=10):\n",
    "    if country in popular_books_by_country.index:\n",
    "        return popular_books_by_country.loc[country, 'Book-Title'][:n]  # Return top 'n' books\n",
    "    else:\n",
    "        return \"No data available for this Country. Here are popular national books.\"\n"
   ]
  },
  {
   "cell_type": "markdown",
   "id": "d06f5cca-7055-45be-b46f-1870e0db4943",
   "metadata": {},
   "source": [
    "## Step 3: Fallback strategy (e.g., National popular books)"
   ]
  },
  {
   "cell_type": "code",
   "execution_count": 137,
   "id": "43e7b17f-aa16-4aee-9347-75fb38f605a1",
   "metadata": {},
   "outputs": [],
   "source": [
    "national_popular_books = df['Book-Title'].value_counts().head(10)"
   ]
  },
  {
   "cell_type": "code",
   "execution_count": 142,
   "id": "fff50ea9-e1a2-4ada-8dc0-b086c9aa27e2",
   "metadata": {},
   "outputs": [
    {
     "name": "stdout",
     "output_type": "stream",
     "text": [
      "['It Was on Fire When I Lay Down on It', \"One Hundred Years of Solitude (Oprah's Book Club)\", 'In Retrospect: The Tragedy and Lessons of Vietnam']\n"
     ]
    }
   ],
   "source": [
    "country = 'afghanistan'\n",
    "recommendations = recommend_books_for_new_user(country, popular_books_by_country)\n",
    "if recommendations == \"No data available for this state.\":\n",
    "    recommendations = national_popular_books\n",
    "print(recommendations)\n"
   ]
  },
  {
   "cell_type": "code",
   "execution_count": null,
   "id": "781398a3-c76c-4c1c-b603-dab2c1692588",
   "metadata": {},
   "outputs": [],
   "source": []
  },
  {
   "cell_type": "code",
   "execution_count": null,
   "id": "277f9fa3-197e-4455-95ef-72dfd6c177dc",
   "metadata": {},
   "outputs": [],
   "source": []
  }
 ],
 "metadata": {
  "kernelspec": {
   "display_name": "Python 3 (ipykernel)",
   "language": "python",
   "name": "python3"
  },
  "language_info": {
   "codemirror_mode": {
    "name": "ipython",
    "version": 3
   },
   "file_extension": ".py",
   "mimetype": "text/x-python",
   "name": "python",
   "nbconvert_exporter": "python",
   "pygments_lexer": "ipython3",
   "version": "3.12.4"
  }
 },
 "nbformat": 4,
 "nbformat_minor": 5
}
