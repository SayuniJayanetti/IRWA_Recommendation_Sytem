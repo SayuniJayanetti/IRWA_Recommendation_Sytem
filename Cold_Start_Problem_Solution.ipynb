{
 "cells": [
  {
   "cell_type": "code",
   "execution_count": 1,
   "id": "1a478e2e-7149-44ff-8b2f-babcf061104e",
   "metadata": {},
   "outputs": [],
   "source": [
    "import pandas as pd\n",
    "import numpy as np"
   ]
  },
  {
   "cell_type": "code",
   "execution_count": 3,
   "id": "42841329-c74d-41cb-b499-fa8148c76197",
   "metadata": {},
   "outputs": [],
   "source": [
    "df = pd.read_csv('cleaned_book_store_data.csv', delimiter=',', encoding='ISO-8859-1')"
   ]
  },
  {
   "cell_type": "code",
   "execution_count": 5,
   "id": "b26b0716-200a-49db-9d63-29f0015c30e8",
   "metadata": {},
   "outputs": [
    {
     "data": {
      "text/html": [
       "<div>\n",
       "<style scoped>\n",
       "    .dataframe tbody tr th:only-of-type {\n",
       "        vertical-align: middle;\n",
       "    }\n",
       "\n",
       "    .dataframe tbody tr th {\n",
       "        vertical-align: top;\n",
       "    }\n",
       "\n",
       "    .dataframe thead th {\n",
       "        text-align: right;\n",
       "    }\n",
       "</style>\n",
       "<table border=\"1\" class=\"dataframe\">\n",
       "  <thead>\n",
       "    <tr style=\"text-align: right;\">\n",
       "      <th></th>\n",
       "      <th>ISBN</th>\n",
       "      <th>Book-Title</th>\n",
       "      <th>Book-Author</th>\n",
       "      <th>Year-Of-Publication</th>\n",
       "      <th>Publisher</th>\n",
       "      <th>Image-URL-M</th>\n",
       "      <th>User-ID</th>\n",
       "      <th>Age</th>\n",
       "      <th>Book-Rating</th>\n",
       "    </tr>\n",
       "  </thead>\n",
       "  <tbody>\n",
       "    <tr>\n",
       "      <th>0</th>\n",
       "      <td>0002005018</td>\n",
       "      <td>Clara Callan</td>\n",
       "      <td>richard bruce wright</td>\n",
       "      <td>2001</td>\n",
       "      <td>HarperFlamingo Canada</td>\n",
       "      <td>http://images.amazon.com/images/P/0002005018.0...</td>\n",
       "      <td>8</td>\n",
       "      <td>35</td>\n",
       "      <td>5</td>\n",
       "    </tr>\n",
       "    <tr>\n",
       "      <th>1</th>\n",
       "      <td>0002005018</td>\n",
       "      <td>Clara Callan</td>\n",
       "      <td>richard bruce wright</td>\n",
       "      <td>2001</td>\n",
       "      <td>HarperFlamingo Canada</td>\n",
       "      <td>http://images.amazon.com/images/P/0002005018.0...</td>\n",
       "      <td>11676</td>\n",
       "      <td>35</td>\n",
       "      <td>8</td>\n",
       "    </tr>\n",
       "    <tr>\n",
       "      <th>2</th>\n",
       "      <td>0002005018</td>\n",
       "      <td>Clara Callan</td>\n",
       "      <td>richard bruce wright</td>\n",
       "      <td>2001</td>\n",
       "      <td>HarperFlamingo Canada</td>\n",
       "      <td>http://images.amazon.com/images/P/0002005018.0...</td>\n",
       "      <td>67544</td>\n",
       "      <td>30</td>\n",
       "      <td>8</td>\n",
       "    </tr>\n",
       "    <tr>\n",
       "      <th>3</th>\n",
       "      <td>0002005018</td>\n",
       "      <td>Clara Callan</td>\n",
       "      <td>richard bruce wright</td>\n",
       "      <td>2001</td>\n",
       "      <td>HarperFlamingo Canada</td>\n",
       "      <td>http://images.amazon.com/images/P/0002005018.0...</td>\n",
       "      <td>116866</td>\n",
       "      <td>35</td>\n",
       "      <td>9</td>\n",
       "    </tr>\n",
       "    <tr>\n",
       "      <th>4</th>\n",
       "      <td>0002005018</td>\n",
       "      <td>Clara Callan</td>\n",
       "      <td>richard bruce wright</td>\n",
       "      <td>2001</td>\n",
       "      <td>HarperFlamingo Canada</td>\n",
       "      <td>http://images.amazon.com/images/P/0002005018.0...</td>\n",
       "      <td>123629</td>\n",
       "      <td>35</td>\n",
       "      <td>9</td>\n",
       "    </tr>\n",
       "  </tbody>\n",
       "</table>\n",
       "</div>"
      ],
      "text/plain": [
       "         ISBN    Book-Title           Book-Author  Year-Of-Publication  \\\n",
       "0  0002005018  Clara Callan  richard bruce wright                 2001   \n",
       "1  0002005018  Clara Callan  richard bruce wright                 2001   \n",
       "2  0002005018  Clara Callan  richard bruce wright                 2001   \n",
       "3  0002005018  Clara Callan  richard bruce wright                 2001   \n",
       "4  0002005018  Clara Callan  richard bruce wright                 2001   \n",
       "\n",
       "               Publisher                                        Image-URL-M  \\\n",
       "0  HarperFlamingo Canada  http://images.amazon.com/images/P/0002005018.0...   \n",
       "1  HarperFlamingo Canada  http://images.amazon.com/images/P/0002005018.0...   \n",
       "2  HarperFlamingo Canada  http://images.amazon.com/images/P/0002005018.0...   \n",
       "3  HarperFlamingo Canada  http://images.amazon.com/images/P/0002005018.0...   \n",
       "4  HarperFlamingo Canada  http://images.amazon.com/images/P/0002005018.0...   \n",
       "\n",
       "   User-ID  Age  Book-Rating  \n",
       "0        8   35            5  \n",
       "1    11676   35            8  \n",
       "2    67544   30            8  \n",
       "3   116866   35            9  \n",
       "4   123629   35            9  "
      ]
     },
     "execution_count": 5,
     "metadata": {},
     "output_type": "execute_result"
    }
   ],
   "source": [
    "df.head(5)"
   ]
  },
  {
   "cell_type": "markdown",
   "id": "c1cfaffb-b838-42b9-bfb1-bc0f67672c5a",
   "metadata": {},
   "source": [
    "# New Users"
   ]
  },
  {
   "cell_type": "markdown",
   "id": "f45a419d-4ce8-44a7-9501-36677f0784aa",
   "metadata": {},
   "source": [
    "## Step 1: Group books by Age and get top rated books"
   ]
  },
  {
   "cell_type": "code",
   "execution_count": 59,
   "id": "d5e1d8b2-99ad-4685-a756-970601454a0e",
   "metadata": {},
   "outputs": [],
   "source": [
    "def get_popular_books_by_age(df, n=10):\n",
    "    # Group by age, calculate average ratings and counts\n",
    "    age_group = df.groupby('Age').agg({\n",
    "        'Book-Title': lambda x: list(x),  # List of book titles read by users of that age\n",
    "        'Book-Rating': 'mean',  # Average rating for the age\n",
    "        'Year-Of-Publication': 'first'  # To handle recent books\n",
    "    })\n",
    "    return age_group[['Book-Title']]\n"
   ]
  },
  {
   "cell_type": "code",
   "execution_count": 61,
   "id": "de0237f2-1872-4954-a702-ac9c48445f68",
   "metadata": {},
   "outputs": [],
   "source": [
    "popular_books_by_age = get_popular_books_by_age(df)"
   ]
  },
  {
   "cell_type": "markdown",
   "id": "ed97b2b3-266a-4b58-875a-f46bfc57d37a",
   "metadata": {},
   "source": [
    "## Step 2: Recommend books for new users based on their age"
   ]
  },
  {
   "cell_type": "code",
   "execution_count": 73,
   "id": "432f74ae-2654-4331-9ce8-0da932b4df0f",
   "metadata": {},
   "outputs": [],
   "source": [
    "def recommend_books_for_new_user(age, popular_books_by_age, n=10):\n",
    "    # Ensure age is an integer for comparison\n",
    "    if age in popular_books_by_age.index:\n",
    "        # Retrieve and return the book titles for the specified age\n",
    "        return popular_books_by_age.loc[age, 'Book-Title'][:n]  # Return the list of book titles\n",
    "    else:\n",
    "        return \"No data available for this age group. Here are the most popular books.\"\n"
   ]
  },
  {
   "cell_type": "code",
   "execution_count": 78,
   "id": "fff50ea9-e1a2-4ada-8dc0-b086c9aa27e2",
   "metadata": {},
   "outputs": [
    {
     "name": "stdout",
     "output_type": "stream",
     "text": [
      "Recommended Books:\n"
     ]
    },
    {
     "data": {
      "text/plain": [
       "['The Testament',\n",
       " 'New Vegetarian: Bold and Beautiful Recipes for Every Occasion',\n",
       " 'Wild Animus',\n",
       " 'Wild Animus',\n",
       " 'Wild Animus',\n",
       " 'Wild Animus',\n",
       " 'Wild Animus',\n",
       " 'Wild Animus',\n",
       " 'Wild Animus',\n",
       " 'Wild Animus']"
      ]
     },
     "execution_count": 78,
     "metadata": {},
     "output_type": "execute_result"
    }
   ],
   "source": [
    "age = 20  # Replace with the user's age\n",
    "popular_books_by_age = get_popular_books_by_age(df)  # Ensure this is called to get the updated DataFrame\n",
    "recommendations = recommend_books_for_new_user(age, popular_books_by_age)\n",
    "\n",
    "if recommendations == \"No data available for this age group.\":\n",
    "    national_popular_books = df['Book-Title'].value_counts().head(10).index.tolist()  # Get titles as a list\n",
    "    recommendations = national_popular_books\n",
    "\n",
    "# Display the recommendations\n",
    "print(\"Recommended Books:\")\n",
    "recommendations"
   ]
  },
  {
   "cell_type": "markdown",
   "id": "d1c95806-a597-46cd-bbc2-182a7f627aff",
   "metadata": {},
   "source": [
    "# New Books"
   ]
  },
  {
   "cell_type": "markdown",
   "id": "99616c68-3819-469f-89c9-85971cf048dd",
   "metadata": {},
   "source": [
    "## Create a Function to Identify New Books"
   ]
  },
  {
   "cell_type": "code",
   "execution_count": 133,
   "id": "630d1ebc-daaa-433f-8139-3cf7726f4d03",
   "metadata": {},
   "outputs": [],
   "source": [
    "# Function to get user IDs by author\n",
    "def get_user_ids_by_author(author_name, df):\n",
    "    # Retrieve unique user IDs for books by the specified author\n",
    "    user_ids = df[df['Book-Author'] == author_name]['User-ID'].unique()\n",
    "    return user_ids.tolist()  # Convert to list for easier handling"
   ]
  },
  {
   "cell_type": "code",
   "execution_count": 135,
   "id": "73a9aa36-b9d7-4783-becc-5657b0d65983",
   "metadata": {},
   "outputs": [],
   "source": [
    "# Example author name\n",
    "author_name = 'frank mccourt'  # Replace with the author's name you want to query\n",
    "user_ids = get_user_ids_by_author(author_name, df)\n"
   ]
  },
  {
   "cell_type": "code",
   "execution_count": 137,
   "id": "9b7275bf-fbdf-472e-9c4a-6ed474203c96",
   "metadata": {},
   "outputs": [
    {
     "name": "stdout",
     "output_type": "stream",
     "text": [
      "Recommend your new book by frank mccourt to users: 1435, 11362, 11676, 14546, 15351, 15408, 17058, 18439, 25253, 26583, 31229, 33816, 37133, 37989, 39345, 47293, 54884, 57234, 57599, 61038, 67402, 70931, 73884, 75306, 75556, 78015, 83698, 105517, 108118, 111656, 112435, 112982, 113270, 120090, 121731, 125774, 126296, 130571, 130950, 136071, 144062, 146266, 152651, 161467, 162917, 166581, 168743, 179189, 183257, 183883, 185087, 187256, 187863, 188057, 189782, 192662, 195904, 206305, 212970, 215388, 219008, 221655, 223605, 225043, 229313, 231210, 237990, 239020, 244657, 250764, 252901, 253310, 256407, 257700, 269349, 270820, 274362, 503, 1025, 4017, 6242, 6251, 6575, 6577, 8937, 14422, 14451, 17950, 23902, 28634, 29041, 30276, 35424, 41620, 45315, 46398, 53946, 55539, 56959, 60244, 64968, 74175, 81207, 85526, 86202, 90646, 94376, 98904, 99832, 101876, 102967, 104125, 111133, 112507, 116395, 116876, 117111, 117308, 136720, 142121, 143587, 149071, 154543, 159720, 165319, 178151, 179906, 180651, 181687, 182551, 187065, 187145, 187410, 190479, 192093, 194172, 198915, 206109, 206959, 207339, 208671, 209174, 211426, 216057, 217740, 219321, 219713, 220448, 221050, 222207, 229329, 231393, 232936, 238903, 239010, 240567, 240587, 246088, 247840, 251394, 251541, 255300, 259111, 264543, 266466, 269835, 270484, 272349, 274301, 901, 16383, 24922, 32440, 39305, 43992, 45305, 57974, 64171, 69405, 70052, 73815, 76350, 77228, 81227, 81855, 86243, 114279, 120080, 126156, 140000, 147156, 147162, 148258, 149908, 154112, 159863, 164096, 168646, 176638, 221672, 231613, 231854, 234554, 235948, 246678, 249626, 256820, 262407, 262902, 2250, 2271, 8245, 10630, 11325, 11687, 13231, 16795, 19107, 23772, 31436, 35925, 36229, 37244, 41084, 41403, 42718, 46920, 54898, 55486, 56856, 58363, 59486, 62891, 64435, 69078, 72990, 73955, 82414, 82431, 82445, 83637, 86906, 89320, 91634, 92979, 98263, 100506, 100906, 101305, 102812, 103336, 104880, 107594, 107911, 108130, 109084, 110912, 111749, 112083, 113519, 116000, 117925, 119066, 129019, 129716, 132946, 133957, 135831, 138518, 138687, 141710, 145703, 147764, 150706, 150979, 153336, 154992, 156269, 160509, 162626, 167746, 168169, 169492, 173280, 175206, 182055, 190741, 197973, 202174, 202353, 204864, 211303, 212109, 216099, 216466, 218552, 218721, 222677, 223145, 223291, 223315, 231672, 234565, 239407, 240401, 240932, 241548, 242098, 246201, 246311, 246759, 248477, 251613, 253771, 255582, 257554, 262713, 263238, 263325, 263357, 265043, 265241, 267538, 270352, 273190, 274418, 274549, 277965, 10590, 33818, 201548, 22625, 44252, 52584, 52807, 59150, 65258, 66942, 78448, 79977, 86463, 97044, 102032, 104429, 109135, 112987, 113657, 115252, 128696, 139387, 146048, 154975, 172119, 174216, 179826, 184401, 206958, 212547, 216435, 217468, 224249, 231255, 236659, 251506, 251667, 251843, 255489, 264996, 265751, 13273, 62862, 89029, 117173, 121170, 123883, 128119, 142479, 144038, 159834, 167176, 192244, 195278, 203161, 223768, 226772, 262118, 264831, 274393, 3168, 3869, 6501, 6563, 6772, 7346, 7507, 7887, 8188, 9902, 12289, 16551, 19711, 21540, 21550, 21750, 22828, 31393, 34597, 37712, 43842, 44910, 51526, 69382, 69597, 75089, 77222, 77768, 78783, 81597, 81771, 82511, 87579, 88825, 89402, 90049, 92278, 93386, 95881, 96843, 97330, 102705, 104468, 105987, 106225, 108496, 109574, 111657, 112001, 112026, 112401, 115783, 117328, 117330, 123597, 133654, 134837, 141016, 143302, 147847, 150000, 157123, 157799, 159817, 162671, 166737, 166934, 167192, 172311, 175117, 175185, 176481, 178144, 182459, 182821, 182931, 183725, 184629, 189139, 190831, 196253, 197727, 197728, 200226, 200607, 201557, 201641, 202997, 203516, 206534, 207246, 208095, 210275, 211292, 213126, 219420, 220118, 222363, 226215, 226961, 231305, 232959, 233578, 233747, 233931, 237660, 239535, 242884, 243929, 243996, 245328, 245645, 247059, 247336, 250510, 250876, 253622, 258982, 259041, 269556, 276038, 64373, 188133, 134434, 229283, 248356, 126941, 241198, 151441, 12835, 131921, 137236, 254852, 18384, 38281, 171904, 71837, 81274, 131398, 191521, 196118, 201537, 202664, 216420, 236173, 94861, 137680, 187954, 222488, 242467, 28993, 219181, 276077, 62348, 66423, 154125, 92571, 70999, 110988, 141941, 140822\n"
     ]
    }
   ],
   "source": [
    "# Display user IDs\n",
    "if user_ids:\n",
    "    # Ensure user_ids are strings for joining\n",
    "    user_ids_str = [str(user_id) for user_id in user_ids]\n",
    "    print(f\"Recommend your new book by {author_name} to users: {', '.join(user_ids_str)}\")\n",
    "else:\n",
    "    print(f\"No users found who have rated books by {author_name}.\")"
   ]
  },
  {
   "cell_type": "code",
   "execution_count": 125,
   "id": "b84ad4c8-f0b4-4d98-83c0-9a0bcf58d7b4",
   "metadata": {},
   "outputs": [
    {
     "name": "stdout",
     "output_type": "stream",
     "text": [
      "                     Book-Author  Number of Books\n",
      "53911               stephen king             4703\n",
      "28741               john grisham             3670\n",
      "43375               nora roberts             3001\n",
      "25061            james patterson             2387\n",
      "23883              j. k. rowling             1746\n",
      "39148         mary higgins clark             1713\n",
      "40401           michael crichton             1705\n",
      "3104                   anne rice             1630\n",
      "25686            janet evanovich             1490\n",
      "12770             dean r. koontz             1475\n",
      "11398             danielle steel             1452\n",
      "54544                sue grafton             1404\n",
      "56994                 tom clancy             1225\n",
      "42984            nicholas sparks             1131\n",
      "11027                  dan brown             1115\n",
      "2571                anita shreve             1027\n",
      "4417          barbara kingsolver             1008\n",
      "44409  patricia daniels cornwell              943\n",
      "1430                alice sebold              928\n",
      "3067              anne mccaffrey              924\n",
      "51665               sandra brown              915\n",
      "28844                john irving              890\n",
      "36833               maeve binchy              887\n",
      "57792               v.c. andrews              886\n",
      "556              agatha christie              864\n",
      "29719         jonathan kellerman              844\n",
      "59751        william shakespeare              838\n",
      "42754                neil gaiman              819\n",
      "24164              jack canfield              809\n",
      "55969            terry pratchett              807\n",
      "46677              piers anthony              805\n",
      "47747              rebecca wells              783\n",
      "14577              douglas adams              748\n",
      "29307              john sandford              713\n",
      "34934       lilian jackson braun              711\n",
      "49930                 robin cook              703\n",
      "43753           orson scott card              700\n",
      "37340            margaret atwood              690\n",
      "1958                     amy tan              687\n",
      "25416                jane austen              686\n",
      "22062             helen fielding              684\n",
      "8160           catherine coulter              675\n",
      "30462              jude deveraux              658\n",
      "12759                dean koontz              656\n",
      "30692                 judy blume              656\n",
      "24109             j.r.r. tolkien              654\n",
      "58646                 wally lamb              645\n",
      "32511                ken follett              641\n",
      "56691                 tim lahaye              632\n",
      "18253              frank mccourt              610\n"
     ]
    }
   ],
   "source": [
    "# Group by 'Book-Author' and count the number of unique 'Book-Title' entries\n",
    "author_book_counts = df.groupby('Book-Author')['Book-Title'].count().reset_index()\n",
    "\n",
    "# Rename the columns for clarity\n",
    "author_book_counts.columns = ['Book-Author', 'Number of Books']\n",
    "\n",
    "# Sort the authors by the number of books in descending order\n",
    "author_book_counts = author_book_counts.sort_values(by='Number of Books', ascending=False)\n",
    "\n",
    "# Display the result\n",
    "print(author_book_counts.head(50))  # Display the top 50 authors\n"
   ]
  },
  {
   "cell_type": "code",
   "execution_count": null,
   "id": "387a728c-dffb-4593-a6eb-7205b3191ba9",
   "metadata": {},
   "outputs": [],
   "source": []
  },
  {
   "cell_type": "code",
   "execution_count": null,
   "id": "594feb85-1f64-42c0-b420-38e2e4dbf9fb",
   "metadata": {},
   "outputs": [],
   "source": []
  }
 ],
 "metadata": {
  "kernelspec": {
   "display_name": "Python 3 (ipykernel)",
   "language": "python",
   "name": "python3"
  },
  "language_info": {
   "codemirror_mode": {
    "name": "ipython",
    "version": 3
   },
   "file_extension": ".py",
   "mimetype": "text/x-python",
   "name": "python",
   "nbconvert_exporter": "python",
   "pygments_lexer": "ipython3",
   "version": "3.12.4"
  }
 },
 "nbformat": 4,
 "nbformat_minor": 5
}
